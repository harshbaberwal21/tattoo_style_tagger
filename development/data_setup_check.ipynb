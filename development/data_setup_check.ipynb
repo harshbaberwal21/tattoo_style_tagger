{
 "cells": [
  {
   "cell_type": "code",
   "execution_count": 1,
   "id": "5b402eab-cdac-47a9-b557-832f95207fc1",
   "metadata": {},
   "outputs": [],
   "source": [
    "import numpy as np\n",
    "import pandas as pd\n",
    "import sys\n",
    "import os"
   ]
  },
  {
   "cell_type": "code",
   "execution_count": 2,
   "id": "7cd40856-56e7-4c85-8edf-a7a27919154c",
   "metadata": {},
   "outputs": [],
   "source": [
    "%load_ext autoreload\n",
    "%autoreload 2"
   ]
  },
  {
   "cell_type": "code",
   "execution_count": 3,
   "id": "69e52139-6388-4cea-a664-78d237d6763a",
   "metadata": {},
   "outputs": [
    {
     "data": {
      "text/plain": [
       "'/Users/harshbaberwal/Desktop/Projects/git_repos/tattoo_style_tagger/development'"
      ]
     },
     "execution_count": 3,
     "metadata": {},
     "output_type": "execute_result"
    }
   ],
   "source": [
    "os.getcwd()"
   ]
  },
  {
   "cell_type": "code",
   "execution_count": 4,
   "id": "e91df21c-4316-4d0c-a01d-1602a6856d31",
   "metadata": {},
   "outputs": [],
   "source": [
    "sys.path.append(\"/Users/harshbaberwal/Desktop/Projects/git_repos/tattoo_style_tagger\")"
   ]
  },
  {
   "cell_type": "code",
   "execution_count": 5,
   "id": "c94be5cc-d32e-49d2-b82e-a24830c219f9",
   "metadata": {},
   "outputs": [
    {
     "data": {
      "text/html": [
       "<div>\n",
       "<style scoped>\n",
       "    .dataframe tbody tr th:only-of-type {\n",
       "        vertical-align: middle;\n",
       "    }\n",
       "\n",
       "    .dataframe tbody tr th {\n",
       "        vertical-align: top;\n",
       "    }\n",
       "\n",
       "    .dataframe thead th {\n",
       "        text-align: right;\n",
       "    }\n",
       "</style>\n",
       "<table border=\"1\" class=\"dataframe\">\n",
       "  <thead>\n",
       "    <tr style=\"text-align: right;\">\n",
       "      <th></th>\n",
       "      <th>style</th>\n",
       "      <th>style_query</th>\n",
       "      <th>style_desc</th>\n",
       "    </tr>\n",
       "  </thead>\n",
       "  <tbody>\n",
       "    <tr>\n",
       "      <th>0</th>\n",
       "      <td>abstract</td>\n",
       "      <td>abstract</td>\n",
       "      <td>Just like the art movement it is inspired by, ...</td>\n",
       "    </tr>\n",
       "    <tr>\n",
       "      <th>1</th>\n",
       "      <td>anime</td>\n",
       "      <td>anime</td>\n",
       "      <td>NaN</td>\n",
       "    </tr>\n",
       "    <tr>\n",
       "      <th>2</th>\n",
       "      <td>black_and_gray</td>\n",
       "      <td>black_and_gray</td>\n",
       "      <td>Shading is key when it comes to black and grey...</td>\n",
       "    </tr>\n",
       "    <tr>\n",
       "      <th>3</th>\n",
       "      <td>blackwork</td>\n",
       "      <td>blackwork</td>\n",
       "      <td>Black and bold is what makes Blackwork tattoos...</td>\n",
       "    </tr>\n",
       "    <tr>\n",
       "      <th>4</th>\n",
       "      <td>chicano</td>\n",
       "      <td>chicano</td>\n",
       "      <td>Often using black and grey and an illustrative...</td>\n",
       "    </tr>\n",
       "  </tbody>\n",
       "</table>\n",
       "</div>"
      ],
      "text/plain": [
       "            style     style_query  \\\n",
       "0        abstract        abstract   \n",
       "1           anime           anime   \n",
       "2  black_and_gray  black_and_gray   \n",
       "3       blackwork       blackwork   \n",
       "4         chicano         chicano   \n",
       "\n",
       "                                          style_desc  \n",
       "0  Just like the art movement it is inspired by, ...  \n",
       "1                                                NaN  \n",
       "2  Shading is key when it comes to black and grey...  \n",
       "3  Black and bold is what makes Blackwork tattoos...  \n",
       "4  Often using black and grey and an illustrative...  "
      ]
     },
     "execution_count": 5,
     "metadata": {},
     "output_type": "execute_result"
    }
   ],
   "source": [
    "style_info = pd.read_csv(\"../data/style_queries_w_description.csv\")\n",
    "style_info.head()"
   ]
  },
  {
   "cell_type": "code",
   "execution_count": 6,
   "id": "5f078036-1f85-4c9c-adc1-d344b3ed11ad",
   "metadata": {},
   "outputs": [
    {
     "data": {
      "text/html": [
       "<div>\n",
       "<style scoped>\n",
       "    .dataframe tbody tr th:only-of-type {\n",
       "        vertical-align: middle;\n",
       "    }\n",
       "\n",
       "    .dataframe tbody tr th {\n",
       "        vertical-align: top;\n",
       "    }\n",
       "\n",
       "    .dataframe thead th {\n",
       "        text-align: right;\n",
       "    }\n",
       "</style>\n",
       "<table border=\"1\" class=\"dataframe\">\n",
       "  <thead>\n",
       "    <tr style=\"text-align: right;\">\n",
       "      <th></th>\n",
       "      <th>style</th>\n",
       "      <th>style_query</th>\n",
       "      <th>style_desc</th>\n",
       "    </tr>\n",
       "  </thead>\n",
       "  <tbody>\n",
       "    <tr>\n",
       "      <th>0</th>\n",
       "      <td>abstract</td>\n",
       "      <td>abstract</td>\n",
       "      <td>Just like the art movement it is inspired by, ...</td>\n",
       "    </tr>\n",
       "    <tr>\n",
       "      <th>1</th>\n",
       "      <td>anime</td>\n",
       "      <td>anime</td>\n",
       "      <td>NaN</td>\n",
       "    </tr>\n",
       "    <tr>\n",
       "      <th>2</th>\n",
       "      <td>black_and_gray</td>\n",
       "      <td>black_and_gray</td>\n",
       "      <td>Shading is key when it comes to black and grey...</td>\n",
       "    </tr>\n",
       "  </tbody>\n",
       "</table>\n",
       "</div>"
      ],
      "text/plain": [
       "            style     style_query  \\\n",
       "0        abstract        abstract   \n",
       "1           anime           anime   \n",
       "2  black_and_gray  black_and_gray   \n",
       "\n",
       "                                          style_desc  \n",
       "0  Just like the art movement it is inspired by, ...  \n",
       "1                                                NaN  \n",
       "2  Shading is key when it comes to black and grey...  "
      ]
     },
     "execution_count": 6,
     "metadata": {},
     "output_type": "execute_result"
    }
   ],
   "source": [
    "styles_for_test = style_info.head(3)\n",
    "styles_for_test"
   ]
  },
  {
   "cell_type": "markdown",
   "id": "ea87f0c7-d062-4fe3-b36e-28300d0eabbc",
   "metadata": {},
   "source": [
    "## Meta Data Pull"
   ]
  },
  {
   "cell_type": "code",
   "execution_count": 8,
   "id": "e83a0b94-5dfd-460c-ba02-d8ab561d7101",
   "metadata": {},
   "outputs": [],
   "source": [
    "from lib.data_pull.meta_data_pull import read_tattoos_meta_data"
   ]
  },
  {
   "cell_type": "code",
   "execution_count": 9,
   "id": "18ca348b-ef29-46a8-aba5-9b13fc711187",
   "metadata": {},
   "outputs": [
    {
     "name": "stdout",
     "output_type": "stream",
     "text": [
      "Reading style abstract\n",
      "Done reading meta data for style abstract \n",
      "Reading style anime\n",
      "Done reading meta data for style anime \n",
      "Reading style black_and_gray\n",
      "Done reading meta data for style black_and_gray \n"
     ]
    }
   ],
   "source": [
    "all_styles_meta_data = read_tattoos_meta_data(styles_for_test)"
   ]
  },
  {
   "cell_type": "code",
   "execution_count": 10,
   "id": "b544fffb-5d92-4daa-8b98-7606d084a91c",
   "metadata": {},
   "outputs": [
    {
     "data": {
      "text/html": [
       "<div>\n",
       "<style scoped>\n",
       "    .dataframe tbody tr th:only-of-type {\n",
       "        vertical-align: middle;\n",
       "    }\n",
       "\n",
       "    .dataframe tbody tr th {\n",
       "        vertical-align: top;\n",
       "    }\n",
       "\n",
       "    .dataframe thead th {\n",
       "        text-align: right;\n",
       "    }\n",
       "</style>\n",
       "<table border=\"1\" class=\"dataframe\">\n",
       "  <thead>\n",
       "    <tr style=\"text-align: right;\">\n",
       "      <th></th>\n",
       "      <th>tattoo_id</th>\n",
       "      <th>image_url</th>\n",
       "      <th>styles</th>\n",
       "      <th>searched_style_query</th>\n",
       "    </tr>\n",
       "  </thead>\n",
       "  <tbody>\n",
       "    <tr>\n",
       "      <th>0</th>\n",
       "      <td>1011413</td>\n",
       "      <td>https://d1kq2dqeox7x40.cloudfront.net/images/p...</td>\n",
       "      <td>['abstract', 'black_and_gray', 'blackwork', 'f...</td>\n",
       "      <td>abstract</td>\n",
       "    </tr>\n",
       "    <tr>\n",
       "      <th>1</th>\n",
       "      <td>1053382</td>\n",
       "      <td>https://d1kq2dqeox7x40.cloudfront.net/images/p...</td>\n",
       "      <td>['abstract', 'black_and_gray', 'blackwork', 'h...</td>\n",
       "      <td>abstract</td>\n",
       "    </tr>\n",
       "    <tr>\n",
       "      <th>2</th>\n",
       "      <td>531019</td>\n",
       "      <td>https://d1kq2dqeox7x40.cloudfront.net/images/p...</td>\n",
       "      <td>['abstract', 'ornamental', 'watercolor']</td>\n",
       "      <td>abstract</td>\n",
       "    </tr>\n",
       "  </tbody>\n",
       "</table>\n",
       "</div>"
      ],
      "text/plain": [
       "   tattoo_id                                          image_url  \\\n",
       "0    1011413  https://d1kq2dqeox7x40.cloudfront.net/images/p...   \n",
       "1    1053382  https://d1kq2dqeox7x40.cloudfront.net/images/p...   \n",
       "2     531019  https://d1kq2dqeox7x40.cloudfront.net/images/p...   \n",
       "\n",
       "                                              styles searched_style_query  \n",
       "0  ['abstract', 'black_and_gray', 'blackwork', 'f...             abstract  \n",
       "1  ['abstract', 'black_and_gray', 'blackwork', 'h...             abstract  \n",
       "2           ['abstract', 'ornamental', 'watercolor']             abstract  "
      ]
     },
     "execution_count": 10,
     "metadata": {},
     "output_type": "execute_result"
    }
   ],
   "source": [
    "all_styles_meta_data.head(3)"
   ]
  },
  {
   "cell_type": "code",
   "execution_count": 11,
   "id": "1ef83af9-306c-4c04-8664-b13c86694d52",
   "metadata": {},
   "outputs": [],
   "source": [
    "all_styles_meta_data.to_csv(\"temp/all_styles_meta_data.csv\", index=False)"
   ]
  },
  {
   "cell_type": "code",
   "execution_count": 12,
   "id": "29a7fb96-4a1a-4a9d-93f1-6ef9efa6583c",
   "metadata": {},
   "outputs": [],
   "source": [
    "all_styles_meta_data = pd.read_csv(\"temp/all_styles_meta_data.csv\")"
   ]
  },
  {
   "cell_type": "markdown",
   "id": "e5a6b1ab-e910-4a3f-8c5c-8b3e39fc9fea",
   "metadata": {},
   "source": [
    "## Meta Data Processing"
   ]
  },
  {
   "cell_type": "markdown",
   "id": "7cd7d888-60ca-4514-94fe-5a2f16037665",
   "metadata": {},
   "source": [
    "## 1"
   ]
  },
  {
   "cell_type": "code",
   "execution_count": 15,
   "id": "5329c37f-6368-403d-8916-530861db480e",
   "metadata": {},
   "outputs": [],
   "source": [
    "from lib.data_pull.meta_data_processing import process_tattoo_meta_data_to_long_form"
   ]
  },
  {
   "cell_type": "code",
   "execution_count": 16,
   "id": "ff4aa5ce-4e0c-4b72-8cd4-218cda79de0e",
   "metadata": {
    "scrolled": true
   },
   "outputs": [],
   "source": [
    "tattoo_meta_data_exploded = process_tattoo_meta_data_to_long_form(all_styles_meta_data)"
   ]
  },
  {
   "cell_type": "code",
   "execution_count": 17,
   "id": "57a66181-c951-4964-9462-6f59e808e032",
   "metadata": {},
   "outputs": [
    {
     "data": {
      "text/html": [
       "<div>\n",
       "<style scoped>\n",
       "    .dataframe tbody tr th:only-of-type {\n",
       "        vertical-align: middle;\n",
       "    }\n",
       "\n",
       "    .dataframe tbody tr th {\n",
       "        vertical-align: top;\n",
       "    }\n",
       "\n",
       "    .dataframe thead th {\n",
       "        text-align: right;\n",
       "    }\n",
       "</style>\n",
       "<table border=\"1\" class=\"dataframe\">\n",
       "  <thead>\n",
       "    <tr style=\"text-align: right;\">\n",
       "      <th></th>\n",
       "      <th>tattoo_id</th>\n",
       "      <th>image_url</th>\n",
       "      <th>styles</th>\n",
       "    </tr>\n",
       "  </thead>\n",
       "  <tbody>\n",
       "    <tr>\n",
       "      <th>0</th>\n",
       "      <td>1011413</td>\n",
       "      <td>https://d1kq2dqeox7x40.cloudfront.net/images/p...</td>\n",
       "      <td>abstract</td>\n",
       "    </tr>\n",
       "    <tr>\n",
       "      <th>0</th>\n",
       "      <td>1011413</td>\n",
       "      <td>https://d1kq2dqeox7x40.cloudfront.net/images/p...</td>\n",
       "      <td>black_and_gray</td>\n",
       "    </tr>\n",
       "    <tr>\n",
       "      <th>0</th>\n",
       "      <td>1011413</td>\n",
       "      <td>https://d1kq2dqeox7x40.cloudfront.net/images/p...</td>\n",
       "      <td>blackwork</td>\n",
       "    </tr>\n",
       "    <tr>\n",
       "      <th>0</th>\n",
       "      <td>1011413</td>\n",
       "      <td>https://d1kq2dqeox7x40.cloudfront.net/images/p...</td>\n",
       "      <td>fine_line</td>\n",
       "    </tr>\n",
       "    <tr>\n",
       "      <th>0</th>\n",
       "      <td>1011413</td>\n",
       "      <td>https://d1kq2dqeox7x40.cloudfront.net/images/p...</td>\n",
       "      <td>horror</td>\n",
       "    </tr>\n",
       "  </tbody>\n",
       "</table>\n",
       "</div>"
      ],
      "text/plain": [
       "   tattoo_id                                          image_url  \\\n",
       "0    1011413  https://d1kq2dqeox7x40.cloudfront.net/images/p...   \n",
       "0    1011413  https://d1kq2dqeox7x40.cloudfront.net/images/p...   \n",
       "0    1011413  https://d1kq2dqeox7x40.cloudfront.net/images/p...   \n",
       "0    1011413  https://d1kq2dqeox7x40.cloudfront.net/images/p...   \n",
       "0    1011413  https://d1kq2dqeox7x40.cloudfront.net/images/p...   \n",
       "\n",
       "           styles  \n",
       "0        abstract  \n",
       "0  black_and_gray  \n",
       "0       blackwork  \n",
       "0       fine_line  \n",
       "0          horror  "
      ]
     },
     "execution_count": 17,
     "metadata": {},
     "output_type": "execute_result"
    }
   ],
   "source": [
    "tattoo_meta_data_exploded.head()"
   ]
  },
  {
   "cell_type": "markdown",
   "id": "69cf4497-6b6f-46d4-b0d7-d3b29b652bae",
   "metadata": {},
   "source": [
    "#### Sanity Check"
   ]
  },
  {
   "cell_type": "code",
   "execution_count": 19,
   "id": "afb69ade-d8e9-44d5-bc96-35f03c275116",
   "metadata": {},
   "outputs": [
    {
     "data": {
      "text/plain": [
       "562"
      ]
     },
     "execution_count": 19,
     "metadata": {},
     "output_type": "execute_result"
    }
   ],
   "source": [
    "all_styles_meta_data.tattoo_id.nunique() - tattoo_meta_data_exploded.tattoo_id.nunique()"
   ]
  },
  {
   "cell_type": "code",
   "execution_count": 20,
   "id": "17846919-1e2e-4fec-b094-d4c38e48ec73",
   "metadata": {},
   "outputs": [
    {
     "data": {
      "text/plain": [
       "562"
      ]
     },
     "execution_count": 20,
     "metadata": {},
     "output_type": "execute_result"
    }
   ],
   "source": [
    "all_styles_meta_data[all_styles_meta_data['styles'] == \"[]\"].tattoo_id.nunique()"
   ]
  },
  {
   "cell_type": "markdown",
   "id": "f9d78096-a2da-4735-acd1-f18e25a88c38",
   "metadata": {},
   "source": [
    "## 2"
   ]
  },
  {
   "cell_type": "code",
   "execution_count": 22,
   "id": "24fd5cff-ac1a-4474-8b66-f7b3af1684c4",
   "metadata": {},
   "outputs": [],
   "source": [
    "from lib.data_pull.meta_data_processing import filter_out_tattoos"
   ]
  },
  {
   "cell_type": "code",
   "execution_count": 23,
   "id": "7762b0af-52e3-4f17-8cd8-89a8d3c3c515",
   "metadata": {},
   "outputs": [],
   "source": [
    "tattoo_meta_data_exploded_filtered = filter_out_tattoos(tattoo_meta_data_exploded)"
   ]
  },
  {
   "cell_type": "code",
   "execution_count": 24,
   "id": "5628df43-614b-464e-9433-fdfbfcfc015c",
   "metadata": {},
   "outputs": [
    {
     "data": {
      "text/html": [
       "<div>\n",
       "<style scoped>\n",
       "    .dataframe tbody tr th:only-of-type {\n",
       "        vertical-align: middle;\n",
       "    }\n",
       "\n",
       "    .dataframe tbody tr th {\n",
       "        vertical-align: top;\n",
       "    }\n",
       "\n",
       "    .dataframe thead th {\n",
       "        text-align: right;\n",
       "    }\n",
       "</style>\n",
       "<table border=\"1\" class=\"dataframe\">\n",
       "  <thead>\n",
       "    <tr style=\"text-align: right;\">\n",
       "      <th></th>\n",
       "      <th>tattoo_id</th>\n",
       "      <th>image_url</th>\n",
       "      <th>styles</th>\n",
       "    </tr>\n",
       "  </thead>\n",
       "  <tbody>\n",
       "    <tr>\n",
       "      <th>0</th>\n",
       "      <td>1011413</td>\n",
       "      <td>https://d1kq2dqeox7x40.cloudfront.net/images/p...</td>\n",
       "      <td>abstract</td>\n",
       "    </tr>\n",
       "    <tr>\n",
       "      <th>1</th>\n",
       "      <td>1011413</td>\n",
       "      <td>https://d1kq2dqeox7x40.cloudfront.net/images/p...</td>\n",
       "      <td>black_and_gray</td>\n",
       "    </tr>\n",
       "    <tr>\n",
       "      <th>2</th>\n",
       "      <td>1011413</td>\n",
       "      <td>https://d1kq2dqeox7x40.cloudfront.net/images/p...</td>\n",
       "      <td>blackwork</td>\n",
       "    </tr>\n",
       "    <tr>\n",
       "      <th>3</th>\n",
       "      <td>1011413</td>\n",
       "      <td>https://d1kq2dqeox7x40.cloudfront.net/images/p...</td>\n",
       "      <td>fine_line</td>\n",
       "    </tr>\n",
       "    <tr>\n",
       "      <th>4</th>\n",
       "      <td>1011413</td>\n",
       "      <td>https://d1kq2dqeox7x40.cloudfront.net/images/p...</td>\n",
       "      <td>horror</td>\n",
       "    </tr>\n",
       "  </tbody>\n",
       "</table>\n",
       "</div>"
      ],
      "text/plain": [
       "   tattoo_id                                          image_url  \\\n",
       "0    1011413  https://d1kq2dqeox7x40.cloudfront.net/images/p...   \n",
       "1    1011413  https://d1kq2dqeox7x40.cloudfront.net/images/p...   \n",
       "2    1011413  https://d1kq2dqeox7x40.cloudfront.net/images/p...   \n",
       "3    1011413  https://d1kq2dqeox7x40.cloudfront.net/images/p...   \n",
       "4    1011413  https://d1kq2dqeox7x40.cloudfront.net/images/p...   \n",
       "\n",
       "           styles  \n",
       "0        abstract  \n",
       "1  black_and_gray  \n",
       "2       blackwork  \n",
       "3       fine_line  \n",
       "4          horror  "
      ]
     },
     "execution_count": 24,
     "metadata": {},
     "output_type": "execute_result"
    }
   ],
   "source": [
    "tattoo_meta_data_exploded_filtered.head()"
   ]
  },
  {
   "cell_type": "markdown",
   "id": "d068b7dc-aa47-4384-8855-648b37f4a017",
   "metadata": {},
   "source": [
    "#### Sanity Check"
   ]
  },
  {
   "cell_type": "code",
   "execution_count": 26,
   "id": "8fc19ebc-f2a5-4c56-ba5a-7aa41bb5ffdf",
   "metadata": {},
   "outputs": [
    {
     "data": {
      "text/plain": [
       "124"
      ]
     },
     "execution_count": 26,
     "metadata": {},
     "output_type": "execute_result"
    }
   ],
   "source": [
    "tattoo_meta_data_exploded.tattoo_id.nunique() - tattoo_meta_data_exploded_filtered.tattoo_id.nunique()"
   ]
  },
  {
   "cell_type": "code",
   "execution_count": 27,
   "id": "c1743429-8049-43ef-9c8c-f97ffae56a01",
   "metadata": {},
   "outputs": [
    {
     "data": {
      "text/plain": [
       "(124, 2)"
      ]
     },
     "execution_count": 27,
     "metadata": {},
     "output_type": "execute_result"
    }
   ],
   "source": [
    "tattoo_meta_data_exploded.groupby(\n",
    "    'image_url', as_index=False\n",
    "    )['styles'].nunique().query(\"styles > 7\").shape"
   ]
  },
  {
   "cell_type": "code",
   "execution_count": null,
   "id": "5f5bb95b-7263-4e9c-b1e6-994a1e2f8510",
   "metadata": {},
   "outputs": [],
   "source": []
  },
  {
   "cell_type": "markdown",
   "id": "74f03ac0-9cf2-4db6-af91-db2663d9eda4",
   "metadata": {},
   "source": [
    "## 3"
   ]
  },
  {
   "cell_type": "code",
   "execution_count": 29,
   "id": "52a7015c-e7aa-4922-87df-ae201ff94cd8",
   "metadata": {},
   "outputs": [],
   "source": [
    "from lib.data_pull.meta_data_processing import handle_duplicates"
   ]
  },
  {
   "cell_type": "code",
   "execution_count": 30,
   "id": "423900d9-f6d8-4d64-a74f-a1aec462a808",
   "metadata": {},
   "outputs": [
    {
     "name": "stdout",
     "output_type": "stream",
     "text": [
      "orig_tattoo_id    0\n",
      "image_url         0\n",
      "styles            0\n",
      "tattoo_id         0\n",
      "dtype: int64\n"
     ]
    }
   ],
   "source": [
    "tattoo_meta_data_exploded_filtered_final = handle_duplicates(tattoo_meta_data_exploded_filtered)"
   ]
  },
  {
   "cell_type": "markdown",
   "id": "907e5195-f08f-4b83-a984-062e0618130a",
   "metadata": {},
   "source": [
    "#### Sanity Check"
   ]
  },
  {
   "cell_type": "code",
   "execution_count": 32,
   "id": "b9c271cd-97ec-4d96-8bb6-f4552d11f58b",
   "metadata": {},
   "outputs": [
    {
     "data": {
      "text/plain": [
       "0"
      ]
     },
     "execution_count": 32,
     "metadata": {},
     "output_type": "execute_result"
    }
   ],
   "source": [
    "tattoo_meta_data_exploded_filtered.image_url.nunique() - tattoo_meta_data_exploded_filtered_final.image_url.nunique()"
   ]
  },
  {
   "cell_type": "code",
   "execution_count": 33,
   "id": "3b8b8569-35b9-45f4-bbcd-0fa65b4b7e13",
   "metadata": {},
   "outputs": [
    {
     "data": {
      "text/plain": [
       "0"
      ]
     },
     "execution_count": 33,
     "metadata": {},
     "output_type": "execute_result"
    }
   ],
   "source": [
    "tattoo_meta_data_exploded_filtered.tattoo_id.nunique() - tattoo_meta_data_exploded_filtered_final.tattoo_id.nunique()"
   ]
  },
  {
   "cell_type": "code",
   "execution_count": 34,
   "id": "b85385c0-c812-498a-ba91-2eda2fde7e2a",
   "metadata": {},
   "outputs": [
    {
     "data": {
      "text/plain": [
       "(0, 2)"
      ]
     },
     "execution_count": 34,
     "metadata": {},
     "output_type": "execute_result"
    }
   ],
   "source": [
    "tattoo_meta_data_exploded_filtered.groupby(\n",
    "    'image_url', as_index=False\n",
    "    )['tattoo_id'].nunique().query(\"tattoo_id > 1\").shape"
   ]
  },
  {
   "cell_type": "code",
   "execution_count": 35,
   "id": "36d3b94b-76b7-4d02-96f8-f9ebefb33ff8",
   "metadata": {},
   "outputs": [],
   "source": [
    "tattoo_meta_data_for_testing = tattoo_meta_data_exploded_filtered_final.head(20)"
   ]
  },
  {
   "cell_type": "markdown",
   "id": "f3ef6d9f-b22b-471f-8d3c-519d8e61221f",
   "metadata": {},
   "source": [
    "## Tattoo Images Download and Image Processing"
   ]
  },
  {
   "cell_type": "markdown",
   "id": "2a027fae-b177-4dc5-a71f-f3aaec4f18c4",
   "metadata": {},
   "source": [
    "### Image Downloads"
   ]
  },
  {
   "cell_type": "code",
   "execution_count": 38,
   "id": "4ebc009a-826f-4173-997c-7ae40129e415",
   "metadata": {},
   "outputs": [],
   "source": [
    "from lib.data_pull.download_tattoo_images import download_tattoo_images"
   ]
  },
  {
   "cell_type": "code",
   "execution_count": 39,
   "id": "1d12a4b4-1c36-4885-ad77-48e616cf950a",
   "metadata": {},
   "outputs": [],
   "source": [
    "download_path = \"/Users/harshbaberwal/Desktop/Projects/git_repos/tattoo_style_tagger/development/temp/\""
   ]
  },
  {
   "cell_type": "code",
   "execution_count": 40,
   "id": "2ad5ffd1-9b3f-41cd-827d-083d27c8f1cd",
   "metadata": {},
   "outputs": [],
   "source": [
    "download_tattoo_images(\n",
    "    tattoo_meta_data_for_testing,\n",
    "    download_path = download_path\n",
    "    )"
   ]
  },
  {
   "cell_type": "code",
   "execution_count": 41,
   "id": "e6668ba4-1521-4f06-a765-c185bd83d1dc",
   "metadata": {},
   "outputs": [],
   "source": [
    "raw_images_path = download_path+\"raw_tattoo_images\""
   ]
  },
  {
   "cell_type": "code",
   "execution_count": 42,
   "id": "0bcf2304-cf61-48de-98b6-aba0e67db8e2",
   "metadata": {},
   "outputs": [
    {
     "data": {
      "text/plain": [
       "['4.jpg',\n",
       " '-1.jpg',\n",
       " '5.jpg',\n",
       " '6.jpg',\n",
       " '2.jpg',\n",
       " '-6.jpg',\n",
       " '3.jpg',\n",
       " '1.jpg',\n",
       " '-5.jpg']"
      ]
     },
     "execution_count": 42,
     "metadata": {},
     "output_type": "execute_result"
    }
   ],
   "source": [
    "os.listdir(raw_images_path)"
   ]
  },
  {
   "cell_type": "code",
   "execution_count": 43,
   "id": "051be20f-1f2b-4be2-b476-ca6aae6fe1f7",
   "metadata": {},
   "outputs": [
    {
     "data": {
      "text/plain": [
       "array([1, 2, 3, 4, 5])"
      ]
     },
     "execution_count": 43,
     "metadata": {},
     "output_type": "execute_result"
    }
   ],
   "source": [
    "tattoo_meta_data_for_testing.tattoo_id.unique()"
   ]
  },
  {
   "cell_type": "code",
   "execution_count": null,
   "id": "71f9b6a9-2b1f-4da6-a6be-ccf381903056",
   "metadata": {},
   "outputs": [],
   "source": []
  },
  {
   "cell_type": "markdown",
   "id": "cbf464d7-a5ba-4524-b700-1ebd8d0003e8",
   "metadata": {},
   "source": [
    "### Image Processing"
   ]
  },
  {
   "cell_type": "code",
   "execution_count": 45,
   "id": "a17c07d4-ceed-4e98-8e03-639c5f608825",
   "metadata": {},
   "outputs": [],
   "source": [
    "from lib.data_preprocessing.data_pre_processing import (\n",
    "get_dims_for_all_images,\n",
    "flag_images_with_dims_outliers,\n",
    "filter_out_less_represented_styles\n",
    ")\n"
   ]
  },
  {
   "cell_type": "code",
   "execution_count": 46,
   "id": "20c61473-ba70-4eb4-8ff1-22fc54ea0f15",
   "metadata": {},
   "outputs": [],
   "source": [
    "tattoos_dim_df, _ = get_dims_for_all_images(tattoo_meta_data_for_testing, download_path+\"/raw_tattoo_images\")"
   ]
  },
  {
   "cell_type": "code",
   "execution_count": 47,
   "id": "b6c5dff4-a49c-4576-8537-d9a60248b1e3",
   "metadata": {},
   "outputs": [
    {
     "data": {
      "text/html": [
       "<div>\n",
       "<style scoped>\n",
       "    .dataframe tbody tr th:only-of-type {\n",
       "        vertical-align: middle;\n",
       "    }\n",
       "\n",
       "    .dataframe tbody tr th {\n",
       "        vertical-align: top;\n",
       "    }\n",
       "\n",
       "    .dataframe thead th {\n",
       "        text-align: right;\n",
       "    }\n",
       "</style>\n",
       "<table border=\"1\" class=\"dataframe\">\n",
       "  <thead>\n",
       "    <tr style=\"text-align: right;\">\n",
       "      <th></th>\n",
       "      <th>tattoo_id</th>\n",
       "      <th>height</th>\n",
       "      <th>width</th>\n",
       "    </tr>\n",
       "  </thead>\n",
       "  <tbody>\n",
       "    <tr>\n",
       "      <th>0</th>\n",
       "      <td>1</td>\n",
       "      <td>1515</td>\n",
       "      <td>1010</td>\n",
       "    </tr>\n",
       "    <tr>\n",
       "      <th>1</th>\n",
       "      <td>2</td>\n",
       "      <td>3993</td>\n",
       "      <td>2662</td>\n",
       "    </tr>\n",
       "    <tr>\n",
       "      <th>2</th>\n",
       "      <td>3</td>\n",
       "      <td>1334</td>\n",
       "      <td>750</td>\n",
       "    </tr>\n",
       "    <tr>\n",
       "      <th>3</th>\n",
       "      <td>4</td>\n",
       "      <td>782</td>\n",
       "      <td>782</td>\n",
       "    </tr>\n",
       "    <tr>\n",
       "      <th>4</th>\n",
       "      <td>5</td>\n",
       "      <td>3258</td>\n",
       "      <td>2171</td>\n",
       "    </tr>\n",
       "  </tbody>\n",
       "</table>\n",
       "</div>"
      ],
      "text/plain": [
       "   tattoo_id  height  width\n",
       "0          1    1515   1010\n",
       "1          2    3993   2662\n",
       "2          3    1334    750\n",
       "3          4     782    782\n",
       "4          5    3258   2171"
      ]
     },
     "execution_count": 47,
     "metadata": {},
     "output_type": "execute_result"
    }
   ],
   "source": [
    "tattoos_dim_df"
   ]
  },
  {
   "cell_type": "code",
   "execution_count": 48,
   "id": "7950d503-c41f-47c4-bcf7-0443f309d9a5",
   "metadata": {},
   "outputs": [],
   "source": [
    "tattoo_meta_data_for_testing_f = flag_images_with_dims_outliers(tattoo_meta_data_for_testing, tattoos_dim_df)"
   ]
  },
  {
   "cell_type": "code",
   "execution_count": 49,
   "id": "e7224016-e4d8-4279-8077-6b661faf2f67",
   "metadata": {},
   "outputs": [
    {
     "data": {
      "text/html": [
       "<div>\n",
       "<style scoped>\n",
       "    .dataframe tbody tr th:only-of-type {\n",
       "        vertical-align: middle;\n",
       "    }\n",
       "\n",
       "    .dataframe tbody tr th {\n",
       "        vertical-align: top;\n",
       "    }\n",
       "\n",
       "    .dataframe thead th {\n",
       "        text-align: right;\n",
       "    }\n",
       "</style>\n",
       "<table border=\"1\" class=\"dataframe\">\n",
       "  <thead>\n",
       "    <tr style=\"text-align: right;\">\n",
       "      <th></th>\n",
       "      <th>orig_tattoo_id</th>\n",
       "      <th>image_url</th>\n",
       "      <th>styles</th>\n",
       "      <th>tattoo_id</th>\n",
       "      <th>to_process</th>\n",
       "    </tr>\n",
       "  </thead>\n",
       "  <tbody>\n",
       "    <tr>\n",
       "      <th>0</th>\n",
       "      <td>1011413</td>\n",
       "      <td>https://d1kq2dqeox7x40.cloudfront.net/images/p...</td>\n",
       "      <td>abstract</td>\n",
       "      <td>1</td>\n",
       "      <td>True</td>\n",
       "    </tr>\n",
       "    <tr>\n",
       "      <th>1</th>\n",
       "      <td>1011413</td>\n",
       "      <td>https://d1kq2dqeox7x40.cloudfront.net/images/p...</td>\n",
       "      <td>black_and_gray</td>\n",
       "      <td>1</td>\n",
       "      <td>True</td>\n",
       "    </tr>\n",
       "    <tr>\n",
       "      <th>2</th>\n",
       "      <td>1011413</td>\n",
       "      <td>https://d1kq2dqeox7x40.cloudfront.net/images/p...</td>\n",
       "      <td>blackwork</td>\n",
       "      <td>1</td>\n",
       "      <td>True</td>\n",
       "    </tr>\n",
       "    <tr>\n",
       "      <th>3</th>\n",
       "      <td>1011413</td>\n",
       "      <td>https://d1kq2dqeox7x40.cloudfront.net/images/p...</td>\n",
       "      <td>fine_line</td>\n",
       "      <td>1</td>\n",
       "      <td>True</td>\n",
       "    </tr>\n",
       "    <tr>\n",
       "      <th>4</th>\n",
       "      <td>1011413</td>\n",
       "      <td>https://d1kq2dqeox7x40.cloudfront.net/images/p...</td>\n",
       "      <td>horror</td>\n",
       "      <td>1</td>\n",
       "      <td>True</td>\n",
       "    </tr>\n",
       "    <tr>\n",
       "      <th>5</th>\n",
       "      <td>1011413</td>\n",
       "      <td>https://d1kq2dqeox7x40.cloudfront.net/images/p...</td>\n",
       "      <td>illustrative</td>\n",
       "      <td>1</td>\n",
       "      <td>True</td>\n",
       "    </tr>\n",
       "    <tr>\n",
       "      <th>6</th>\n",
       "      <td>1053382</td>\n",
       "      <td>https://d1kq2dqeox7x40.cloudfront.net/images/p...</td>\n",
       "      <td>abstract</td>\n",
       "      <td>2</td>\n",
       "      <td>False</td>\n",
       "    </tr>\n",
       "    <tr>\n",
       "      <th>7</th>\n",
       "      <td>1053382</td>\n",
       "      <td>https://d1kq2dqeox7x40.cloudfront.net/images/p...</td>\n",
       "      <td>black_and_gray</td>\n",
       "      <td>2</td>\n",
       "      <td>False</td>\n",
       "    </tr>\n",
       "    <tr>\n",
       "      <th>8</th>\n",
       "      <td>1053382</td>\n",
       "      <td>https://d1kq2dqeox7x40.cloudfront.net/images/p...</td>\n",
       "      <td>blackwork</td>\n",
       "      <td>2</td>\n",
       "      <td>False</td>\n",
       "    </tr>\n",
       "    <tr>\n",
       "      <th>9</th>\n",
       "      <td>1053382</td>\n",
       "      <td>https://d1kq2dqeox7x40.cloudfront.net/images/p...</td>\n",
       "      <td>horror</td>\n",
       "      <td>2</td>\n",
       "      <td>False</td>\n",
       "    </tr>\n",
       "    <tr>\n",
       "      <th>10</th>\n",
       "      <td>1053382</td>\n",
       "      <td>https://d1kq2dqeox7x40.cloudfront.net/images/p...</td>\n",
       "      <td>illustrative</td>\n",
       "      <td>2</td>\n",
       "      <td>False</td>\n",
       "    </tr>\n",
       "    <tr>\n",
       "      <th>11</th>\n",
       "      <td>531019</td>\n",
       "      <td>https://d1kq2dqeox7x40.cloudfront.net/images/p...</td>\n",
       "      <td>abstract</td>\n",
       "      <td>3</td>\n",
       "      <td>False</td>\n",
       "    </tr>\n",
       "    <tr>\n",
       "      <th>12</th>\n",
       "      <td>531019</td>\n",
       "      <td>https://d1kq2dqeox7x40.cloudfront.net/images/p...</td>\n",
       "      <td>ornamental</td>\n",
       "      <td>3</td>\n",
       "      <td>False</td>\n",
       "    </tr>\n",
       "    <tr>\n",
       "      <th>13</th>\n",
       "      <td>531019</td>\n",
       "      <td>https://d1kq2dqeox7x40.cloudfront.net/images/p...</td>\n",
       "      <td>watercolor</td>\n",
       "      <td>3</td>\n",
       "      <td>False</td>\n",
       "    </tr>\n",
       "    <tr>\n",
       "      <th>14</th>\n",
       "      <td>80476</td>\n",
       "      <td>https://d1kq2dqeox7x40.cloudfront.net/images/p...</td>\n",
       "      <td>abstract</td>\n",
       "      <td>4</td>\n",
       "      <td>False</td>\n",
       "    </tr>\n",
       "    <tr>\n",
       "      <th>15</th>\n",
       "      <td>80476</td>\n",
       "      <td>https://d1kq2dqeox7x40.cloudfront.net/images/p...</td>\n",
       "      <td>watercolor</td>\n",
       "      <td>4</td>\n",
       "      <td>False</td>\n",
       "    </tr>\n",
       "    <tr>\n",
       "      <th>16</th>\n",
       "      <td>997456</td>\n",
       "      <td>https://d1kq2dqeox7x40.cloudfront.net/images/p...</td>\n",
       "      <td>abstract</td>\n",
       "      <td>5</td>\n",
       "      <td>True</td>\n",
       "    </tr>\n",
       "    <tr>\n",
       "      <th>17</th>\n",
       "      <td>997456</td>\n",
       "      <td>https://d1kq2dqeox7x40.cloudfront.net/images/p...</td>\n",
       "      <td>blackwork</td>\n",
       "      <td>5</td>\n",
       "      <td>True</td>\n",
       "    </tr>\n",
       "    <tr>\n",
       "      <th>18</th>\n",
       "      <td>997456</td>\n",
       "      <td>https://d1kq2dqeox7x40.cloudfront.net/images/p...</td>\n",
       "      <td>fine_line</td>\n",
       "      <td>5</td>\n",
       "      <td>True</td>\n",
       "    </tr>\n",
       "    <tr>\n",
       "      <th>19</th>\n",
       "      <td>997456</td>\n",
       "      <td>https://d1kq2dqeox7x40.cloudfront.net/images/p...</td>\n",
       "      <td>illustrative</td>\n",
       "      <td>5</td>\n",
       "      <td>True</td>\n",
       "    </tr>\n",
       "  </tbody>\n",
       "</table>\n",
       "</div>"
      ],
      "text/plain": [
       "    orig_tattoo_id                                          image_url  \\\n",
       "0          1011413  https://d1kq2dqeox7x40.cloudfront.net/images/p...   \n",
       "1          1011413  https://d1kq2dqeox7x40.cloudfront.net/images/p...   \n",
       "2          1011413  https://d1kq2dqeox7x40.cloudfront.net/images/p...   \n",
       "3          1011413  https://d1kq2dqeox7x40.cloudfront.net/images/p...   \n",
       "4          1011413  https://d1kq2dqeox7x40.cloudfront.net/images/p...   \n",
       "5          1011413  https://d1kq2dqeox7x40.cloudfront.net/images/p...   \n",
       "6          1053382  https://d1kq2dqeox7x40.cloudfront.net/images/p...   \n",
       "7          1053382  https://d1kq2dqeox7x40.cloudfront.net/images/p...   \n",
       "8          1053382  https://d1kq2dqeox7x40.cloudfront.net/images/p...   \n",
       "9          1053382  https://d1kq2dqeox7x40.cloudfront.net/images/p...   \n",
       "10         1053382  https://d1kq2dqeox7x40.cloudfront.net/images/p...   \n",
       "11          531019  https://d1kq2dqeox7x40.cloudfront.net/images/p...   \n",
       "12          531019  https://d1kq2dqeox7x40.cloudfront.net/images/p...   \n",
       "13          531019  https://d1kq2dqeox7x40.cloudfront.net/images/p...   \n",
       "14           80476  https://d1kq2dqeox7x40.cloudfront.net/images/p...   \n",
       "15           80476  https://d1kq2dqeox7x40.cloudfront.net/images/p...   \n",
       "16          997456  https://d1kq2dqeox7x40.cloudfront.net/images/p...   \n",
       "17          997456  https://d1kq2dqeox7x40.cloudfront.net/images/p...   \n",
       "18          997456  https://d1kq2dqeox7x40.cloudfront.net/images/p...   \n",
       "19          997456  https://d1kq2dqeox7x40.cloudfront.net/images/p...   \n",
       "\n",
       "            styles  tattoo_id  to_process  \n",
       "0         abstract          1        True  \n",
       "1   black_and_gray          1        True  \n",
       "2        blackwork          1        True  \n",
       "3        fine_line          1        True  \n",
       "4           horror          1        True  \n",
       "5     illustrative          1        True  \n",
       "6         abstract          2       False  \n",
       "7   black_and_gray          2       False  \n",
       "8        blackwork          2       False  \n",
       "9           horror          2       False  \n",
       "10    illustrative          2       False  \n",
       "11        abstract          3       False  \n",
       "12      ornamental          3       False  \n",
       "13      watercolor          3       False  \n",
       "14        abstract          4       False  \n",
       "15      watercolor          4       False  \n",
       "16        abstract          5        True  \n",
       "17       blackwork          5        True  \n",
       "18       fine_line          5        True  \n",
       "19    illustrative          5        True  "
      ]
     },
     "execution_count": 49,
     "metadata": {},
     "output_type": "execute_result"
    }
   ],
   "source": [
    "tattoo_meta_data_for_testing_f"
   ]
  },
  {
   "cell_type": "code",
   "execution_count": 50,
   "id": "6f151ba7-f767-4f22-9420-5071ecbc93d4",
   "metadata": {},
   "outputs": [],
   "source": [
    "tattoo_meta_data_for_testing_ff = filter_out_less_represented_styles(tattoo_meta_data_for_testing_f)"
   ]
  },
  {
   "cell_type": "code",
   "execution_count": 51,
   "id": "cdc0ef50-8058-4408-b279-e419e5100b94",
   "metadata": {},
   "outputs": [
    {
     "data": {
      "text/html": [
       "<div>\n",
       "<style scoped>\n",
       "    .dataframe tbody tr th:only-of-type {\n",
       "        vertical-align: middle;\n",
       "    }\n",
       "\n",
       "    .dataframe tbody tr th {\n",
       "        vertical-align: top;\n",
       "    }\n",
       "\n",
       "    .dataframe thead th {\n",
       "        text-align: right;\n",
       "    }\n",
       "</style>\n",
       "<table border=\"1\" class=\"dataframe\">\n",
       "  <thead>\n",
       "    <tr style=\"text-align: right;\">\n",
       "      <th></th>\n",
       "      <th>orig_tattoo_id</th>\n",
       "      <th>image_url</th>\n",
       "      <th>styles</th>\n",
       "      <th>tattoo_id</th>\n",
       "      <th>to_process</th>\n",
       "    </tr>\n",
       "  </thead>\n",
       "  <tbody>\n",
       "  </tbody>\n",
       "</table>\n",
       "</div>"
      ],
      "text/plain": [
       "Empty DataFrame\n",
       "Columns: [orig_tattoo_id, image_url, styles, tattoo_id, to_process]\n",
       "Index: []"
      ]
     },
     "execution_count": 51,
     "metadata": {},
     "output_type": "execute_result"
    }
   ],
   "source": [
    "tattoo_meta_data_for_testing_ff"
   ]
  },
  {
   "cell_type": "markdown",
   "id": "53ac6c4d-56c5-494d-99e6-a0f4d429d122",
   "metadata": {},
   "source": [
    "### Image Augmentation"
   ]
  },
  {
   "cell_type": "code",
   "execution_count": 53,
   "id": "82c263e3-9515-4fde-be41-2bab77ece405",
   "metadata": {},
   "outputs": [],
   "source": [
    "tattoo_meta_data_for_testing_ff = tattoo_meta_data_for_testing_f"
   ]
  },
  {
   "cell_type": "code",
   "execution_count": 54,
   "id": "f702d41e-9881-4f18-aa5b-f5068b2f4b67",
   "metadata": {},
   "outputs": [],
   "source": [
    "from lib.data_preprocessing.data_augmentation import (\n",
    "prep_metadata_w_flipped_image_ids,\n",
    "flip_images_to_augment_data\n",
    ")\n"
   ]
  },
  {
   "cell_type": "code",
   "execution_count": 55,
   "id": "b6427269-0f26-4c3f-a363-f41123f9e7ae",
   "metadata": {},
   "outputs": [],
   "source": [
    "tattoo_meta_data_processed_augmented = prep_metadata_w_flipped_image_ids(tattoo_meta_data_for_testing_ff)"
   ]
  },
  {
   "cell_type": "code",
   "execution_count": 56,
   "id": "41575bc2-c274-490f-bb1e-483f034f6074",
   "metadata": {},
   "outputs": [
    {
     "data": {
      "text/html": [
       "<div>\n",
       "<style scoped>\n",
       "    .dataframe tbody tr th:only-of-type {\n",
       "        vertical-align: middle;\n",
       "    }\n",
       "\n",
       "    .dataframe tbody tr th {\n",
       "        vertical-align: top;\n",
       "    }\n",
       "\n",
       "    .dataframe thead th {\n",
       "        text-align: right;\n",
       "    }\n",
       "</style>\n",
       "<table border=\"1\" class=\"dataframe\">\n",
       "  <thead>\n",
       "    <tr style=\"text-align: right;\">\n",
       "      <th></th>\n",
       "      <th>tattoo_id</th>\n",
       "      <th>styles</th>\n",
       "      <th>image_url</th>\n",
       "      <th>to_process</th>\n",
       "    </tr>\n",
       "  </thead>\n",
       "  <tbody>\n",
       "    <tr>\n",
       "      <th>0</th>\n",
       "      <td>1</td>\n",
       "      <td>abstract</td>\n",
       "      <td>https://d1kq2dqeox7x40.cloudfront.net/images/p...</td>\n",
       "      <td>True</td>\n",
       "    </tr>\n",
       "    <tr>\n",
       "      <th>1</th>\n",
       "      <td>1</td>\n",
       "      <td>black_and_gray</td>\n",
       "      <td>https://d1kq2dqeox7x40.cloudfront.net/images/p...</td>\n",
       "      <td>True</td>\n",
       "    </tr>\n",
       "    <tr>\n",
       "      <th>2</th>\n",
       "      <td>1</td>\n",
       "      <td>blackwork</td>\n",
       "      <td>https://d1kq2dqeox7x40.cloudfront.net/images/p...</td>\n",
       "      <td>True</td>\n",
       "    </tr>\n",
       "    <tr>\n",
       "      <th>3</th>\n",
       "      <td>1</td>\n",
       "      <td>fine_line</td>\n",
       "      <td>https://d1kq2dqeox7x40.cloudfront.net/images/p...</td>\n",
       "      <td>True</td>\n",
       "    </tr>\n",
       "    <tr>\n",
       "      <th>4</th>\n",
       "      <td>1</td>\n",
       "      <td>horror</td>\n",
       "      <td>https://d1kq2dqeox7x40.cloudfront.net/images/p...</td>\n",
       "      <td>True</td>\n",
       "    </tr>\n",
       "    <tr>\n",
       "      <th>5</th>\n",
       "      <td>1</td>\n",
       "      <td>illustrative</td>\n",
       "      <td>https://d1kq2dqeox7x40.cloudfront.net/images/p...</td>\n",
       "      <td>True</td>\n",
       "    </tr>\n",
       "    <tr>\n",
       "      <th>16</th>\n",
       "      <td>5</td>\n",
       "      <td>abstract</td>\n",
       "      <td>https://d1kq2dqeox7x40.cloudfront.net/images/p...</td>\n",
       "      <td>True</td>\n",
       "    </tr>\n",
       "    <tr>\n",
       "      <th>17</th>\n",
       "      <td>5</td>\n",
       "      <td>blackwork</td>\n",
       "      <td>https://d1kq2dqeox7x40.cloudfront.net/images/p...</td>\n",
       "      <td>True</td>\n",
       "    </tr>\n",
       "    <tr>\n",
       "      <th>18</th>\n",
       "      <td>5</td>\n",
       "      <td>fine_line</td>\n",
       "      <td>https://d1kq2dqeox7x40.cloudfront.net/images/p...</td>\n",
       "      <td>True</td>\n",
       "    </tr>\n",
       "    <tr>\n",
       "      <th>19</th>\n",
       "      <td>5</td>\n",
       "      <td>illustrative</td>\n",
       "      <td>https://d1kq2dqeox7x40.cloudfront.net/images/p...</td>\n",
       "      <td>True</td>\n",
       "    </tr>\n",
       "    <tr>\n",
       "      <th>0</th>\n",
       "      <td>-1</td>\n",
       "      <td>abstract</td>\n",
       "      <td>https://d1kq2dqeox7x40.cloudfront.net/images/p...</td>\n",
       "      <td>True</td>\n",
       "    </tr>\n",
       "    <tr>\n",
       "      <th>1</th>\n",
       "      <td>-1</td>\n",
       "      <td>black_and_gray</td>\n",
       "      <td>https://d1kq2dqeox7x40.cloudfront.net/images/p...</td>\n",
       "      <td>True</td>\n",
       "    </tr>\n",
       "    <tr>\n",
       "      <th>2</th>\n",
       "      <td>-1</td>\n",
       "      <td>blackwork</td>\n",
       "      <td>https://d1kq2dqeox7x40.cloudfront.net/images/p...</td>\n",
       "      <td>True</td>\n",
       "    </tr>\n",
       "    <tr>\n",
       "      <th>3</th>\n",
       "      <td>-1</td>\n",
       "      <td>fine_line</td>\n",
       "      <td>https://d1kq2dqeox7x40.cloudfront.net/images/p...</td>\n",
       "      <td>True</td>\n",
       "    </tr>\n",
       "    <tr>\n",
       "      <th>4</th>\n",
       "      <td>-1</td>\n",
       "      <td>horror</td>\n",
       "      <td>https://d1kq2dqeox7x40.cloudfront.net/images/p...</td>\n",
       "      <td>True</td>\n",
       "    </tr>\n",
       "    <tr>\n",
       "      <th>5</th>\n",
       "      <td>-1</td>\n",
       "      <td>illustrative</td>\n",
       "      <td>https://d1kq2dqeox7x40.cloudfront.net/images/p...</td>\n",
       "      <td>True</td>\n",
       "    </tr>\n",
       "    <tr>\n",
       "      <th>16</th>\n",
       "      <td>-5</td>\n",
       "      <td>abstract</td>\n",
       "      <td>https://d1kq2dqeox7x40.cloudfront.net/images/p...</td>\n",
       "      <td>True</td>\n",
       "    </tr>\n",
       "    <tr>\n",
       "      <th>17</th>\n",
       "      <td>-5</td>\n",
       "      <td>blackwork</td>\n",
       "      <td>https://d1kq2dqeox7x40.cloudfront.net/images/p...</td>\n",
       "      <td>True</td>\n",
       "    </tr>\n",
       "    <tr>\n",
       "      <th>18</th>\n",
       "      <td>-5</td>\n",
       "      <td>fine_line</td>\n",
       "      <td>https://d1kq2dqeox7x40.cloudfront.net/images/p...</td>\n",
       "      <td>True</td>\n",
       "    </tr>\n",
       "    <tr>\n",
       "      <th>19</th>\n",
       "      <td>-5</td>\n",
       "      <td>illustrative</td>\n",
       "      <td>https://d1kq2dqeox7x40.cloudfront.net/images/p...</td>\n",
       "      <td>True</td>\n",
       "    </tr>\n",
       "  </tbody>\n",
       "</table>\n",
       "</div>"
      ],
      "text/plain": [
       "    tattoo_id          styles  \\\n",
       "0           1        abstract   \n",
       "1           1  black_and_gray   \n",
       "2           1       blackwork   \n",
       "3           1       fine_line   \n",
       "4           1          horror   \n",
       "5           1    illustrative   \n",
       "16          5        abstract   \n",
       "17          5       blackwork   \n",
       "18          5       fine_line   \n",
       "19          5    illustrative   \n",
       "0          -1        abstract   \n",
       "1          -1  black_and_gray   \n",
       "2          -1       blackwork   \n",
       "3          -1       fine_line   \n",
       "4          -1          horror   \n",
       "5          -1    illustrative   \n",
       "16         -5        abstract   \n",
       "17         -5       blackwork   \n",
       "18         -5       fine_line   \n",
       "19         -5    illustrative   \n",
       "\n",
       "                                            image_url  to_process  \n",
       "0   https://d1kq2dqeox7x40.cloudfront.net/images/p...        True  \n",
       "1   https://d1kq2dqeox7x40.cloudfront.net/images/p...        True  \n",
       "2   https://d1kq2dqeox7x40.cloudfront.net/images/p...        True  \n",
       "3   https://d1kq2dqeox7x40.cloudfront.net/images/p...        True  \n",
       "4   https://d1kq2dqeox7x40.cloudfront.net/images/p...        True  \n",
       "5   https://d1kq2dqeox7x40.cloudfront.net/images/p...        True  \n",
       "16  https://d1kq2dqeox7x40.cloudfront.net/images/p...        True  \n",
       "17  https://d1kq2dqeox7x40.cloudfront.net/images/p...        True  \n",
       "18  https://d1kq2dqeox7x40.cloudfront.net/images/p...        True  \n",
       "19  https://d1kq2dqeox7x40.cloudfront.net/images/p...        True  \n",
       "0   https://d1kq2dqeox7x40.cloudfront.net/images/p...        True  \n",
       "1   https://d1kq2dqeox7x40.cloudfront.net/images/p...        True  \n",
       "2   https://d1kq2dqeox7x40.cloudfront.net/images/p...        True  \n",
       "3   https://d1kq2dqeox7x40.cloudfront.net/images/p...        True  \n",
       "4   https://d1kq2dqeox7x40.cloudfront.net/images/p...        True  \n",
       "5   https://d1kq2dqeox7x40.cloudfront.net/images/p...        True  \n",
       "16  https://d1kq2dqeox7x40.cloudfront.net/images/p...        True  \n",
       "17  https://d1kq2dqeox7x40.cloudfront.net/images/p...        True  \n",
       "18  https://d1kq2dqeox7x40.cloudfront.net/images/p...        True  \n",
       "19  https://d1kq2dqeox7x40.cloudfront.net/images/p...        True  "
      ]
     },
     "execution_count": 56,
     "metadata": {},
     "output_type": "execute_result"
    }
   ],
   "source": [
    "tattoo_meta_data_processed_augmented"
   ]
  },
  {
   "cell_type": "code",
   "execution_count": 57,
   "id": "1ca939c8-8df7-46b9-90bf-52b278473ac1",
   "metadata": {},
   "outputs": [
    {
     "data": {
      "text/plain": [
       "'/Users/harshbaberwal/Desktop/Projects/git_repos/tattoo_style_tagger/development/temp/raw_tattoo_images'"
      ]
     },
     "execution_count": 57,
     "metadata": {},
     "output_type": "execute_result"
    }
   ],
   "source": [
    "raw_images_path"
   ]
  },
  {
   "cell_type": "code",
   "execution_count": 58,
   "id": "2769d145-7b2d-447c-9cc9-f8a5419c4e29",
   "metadata": {},
   "outputs": [],
   "source": [
    "flip_images_to_augment_data(tattoo_meta_data_processed_augmented,raw_images_path)"
   ]
  },
  {
   "cell_type": "code",
   "execution_count": 59,
   "id": "c5db4e01-bfa8-4bd4-8649-11d37a704c94",
   "metadata": {},
   "outputs": [
    {
     "data": {
      "text/plain": [
       "['4.jpg',\n",
       " '-1.jpg',\n",
       " '5.jpg',\n",
       " '6.jpg',\n",
       " '2.jpg',\n",
       " '-6.jpg',\n",
       " '3.jpg',\n",
       " '1.jpg',\n",
       " '-5.jpg']"
      ]
     },
     "execution_count": 59,
     "metadata": {},
     "output_type": "execute_result"
    }
   ],
   "source": [
    "os.listdir(raw_images_path)"
   ]
  },
  {
   "cell_type": "markdown",
   "id": "a2a538ea-6f7d-4912-98b8-9c99cb69bd03",
   "metadata": {},
   "source": [
    "## Data Splitting"
   ]
  },
  {
   "cell_type": "code",
   "execution_count": 61,
   "id": "550cd10b-718c-4504-a9e6-4b182489f6a6",
   "metadata": {},
   "outputs": [
    {
     "data": {
      "text/html": [
       "<div>\n",
       "<style scoped>\n",
       "    .dataframe tbody tr th:only-of-type {\n",
       "        vertical-align: middle;\n",
       "    }\n",
       "\n",
       "    .dataframe tbody tr th {\n",
       "        vertical-align: top;\n",
       "    }\n",
       "\n",
       "    .dataframe thead th {\n",
       "        text-align: right;\n",
       "    }\n",
       "</style>\n",
       "<table border=\"1\" class=\"dataframe\">\n",
       "  <thead>\n",
       "    <tr style=\"text-align: right;\">\n",
       "      <th></th>\n",
       "      <th>styles</th>\n",
       "      <th>tattoo_id</th>\n",
       "    </tr>\n",
       "  </thead>\n",
       "  <tbody>\n",
       "    <tr>\n",
       "      <th>0</th>\n",
       "      <td>abstract</td>\n",
       "      <td>1</td>\n",
       "    </tr>\n",
       "    <tr>\n",
       "      <th>1</th>\n",
       "      <td>blackwork</td>\n",
       "      <td>1</td>\n",
       "    </tr>\n",
       "  </tbody>\n",
       "</table>\n",
       "</div>"
      ],
      "text/plain": [
       "      styles  tattoo_id\n",
       "0   abstract          1\n",
       "1  blackwork          1"
      ]
     },
     "execution_count": 61,
     "metadata": {},
     "output_type": "execute_result"
    }
   ],
   "source": [
    "tattoo_meta_data_processed_augmented_testing = pd.read_csv(\"temp/tattoo_image_info_by_style_and_example_type.csv\")[['styles','tattoo_id']]\n",
    "tattoo_meta_data_processed_augmented_testing.head(2)"
   ]
  },
  {
   "cell_type": "code",
   "execution_count": 65,
   "id": "ec5298e6-2e1e-4f7e-ace6-600eb48a70a5",
   "metadata": {},
   "outputs": [],
   "source": [
    "tattoo_meta_data_processed_augmented_testing['to_process'] = True"
   ]
  },
  {
   "cell_type": "code",
   "execution_count": 67,
   "id": "3f380a20-adc3-406b-93af-9d7a2bfea27f",
   "metadata": {},
   "outputs": [],
   "source": [
    "from lib.modeling.data_splitting import model_data_splitting"
   ]
  },
  {
   "cell_type": "code",
   "execution_count": 69,
   "id": "f4048b27-d6ac-467d-b1dd-bbcc78db3d5f",
   "metadata": {
    "scrolled": true
   },
   "outputs": [
    {
     "data": {
      "text/html": [
       "<div>\n",
       "<style scoped>\n",
       "    .dataframe tbody tr th:only-of-type {\n",
       "        vertical-align: middle;\n",
       "    }\n",
       "\n",
       "    .dataframe tbody tr th {\n",
       "        vertical-align: top;\n",
       "    }\n",
       "\n",
       "    .dataframe thead th {\n",
       "        text-align: right;\n",
       "    }\n",
       "</style>\n",
       "<table border=\"1\" class=\"dataframe\">\n",
       "  <thead>\n",
       "    <tr style=\"text-align: right;\">\n",
       "      <th></th>\n",
       "      <th>styles</th>\n",
       "      <th>tattoo_id</th>\n",
       "      <th>to_process</th>\n",
       "      <th>example_type</th>\n",
       "    </tr>\n",
       "  </thead>\n",
       "  <tbody>\n",
       "    <tr>\n",
       "      <th>0</th>\n",
       "      <td>abstract</td>\n",
       "      <td>1</td>\n",
       "      <td>True</td>\n",
       "      <td>train</td>\n",
       "    </tr>\n",
       "    <tr>\n",
       "      <th>1</th>\n",
       "      <td>blackwork</td>\n",
       "      <td>1</td>\n",
       "      <td>True</td>\n",
       "      <td>train</td>\n",
       "    </tr>\n",
       "    <tr>\n",
       "      <th>2</th>\n",
       "      <td>fine_line</td>\n",
       "      <td>1</td>\n",
       "      <td>True</td>\n",
       "      <td>train</td>\n",
       "    </tr>\n",
       "  </tbody>\n",
       "</table>\n",
       "</div>"
      ],
      "text/plain": [
       "      styles  tattoo_id  to_process example_type\n",
       "0   abstract          1        True        train\n",
       "1  blackwork          1        True        train\n",
       "2  fine_line          1        True        train"
      ]
     },
     "execution_count": 69,
     "metadata": {},
     "output_type": "execute_result"
    }
   ],
   "source": [
    "prod_w_type = model_data_splitting(tattoo_meta_data_processed_augmented_testing)\n",
    "prod_w_type.head(3)"
   ]
  },
  {
   "cell_type": "code",
   "execution_count": 71,
   "id": "25d04d33-1a21-488b-85c5-15d6afc19ce7",
   "metadata": {},
   "outputs": [
    {
     "data": {
      "text/plain": [
       "example_type\n",
       "train    0.900065\n",
       "test     0.099935\n",
       "Name: proportion, dtype: float64"
      ]
     },
     "execution_count": 71,
     "metadata": {},
     "output_type": "execute_result"
    }
   ],
   "source": [
    "prod_w_type[\n",
    "['tattoo_id', 'example_type']\n",
    "].drop_duplicates()['example_type'].value_counts(normalize=True)"
   ]
  },
  {
   "cell_type": "code",
   "execution_count": 73,
   "id": "c1e7d37d-96ee-4284-b4a4-e52525ed2aa0",
   "metadata": {},
   "outputs": [
    {
     "data": {
      "text/html": [
       "<div>\n",
       "<style scoped>\n",
       "    .dataframe tbody tr th:only-of-type {\n",
       "        vertical-align: middle;\n",
       "    }\n",
       "\n",
       "    .dataframe tbody tr th {\n",
       "        vertical-align: top;\n",
       "    }\n",
       "\n",
       "    .dataframe thead th {\n",
       "        text-align: right;\n",
       "    }\n",
       "</style>\n",
       "<table border=\"1\" class=\"dataframe\">\n",
       "  <thead>\n",
       "    <tr style=\"text-align: right;\">\n",
       "      <th></th>\n",
       "      <th>styles</th>\n",
       "      <th>tattoo_id</th>\n",
       "      <th>to_process</th>\n",
       "      <th>example_type</th>\n",
       "    </tr>\n",
       "  </thead>\n",
       "  <tbody>\n",
       "    <tr>\n",
       "      <th>0</th>\n",
       "      <td>abstract</td>\n",
       "      <td>1</td>\n",
       "      <td>True</td>\n",
       "      <td>val</td>\n",
       "    </tr>\n",
       "    <tr>\n",
       "      <th>1</th>\n",
       "      <td>blackwork</td>\n",
       "      <td>1</td>\n",
       "      <td>True</td>\n",
       "      <td>val</td>\n",
       "    </tr>\n",
       "    <tr>\n",
       "      <th>2</th>\n",
       "      <td>fine_line</td>\n",
       "      <td>1</td>\n",
       "      <td>True</td>\n",
       "      <td>val</td>\n",
       "    </tr>\n",
       "  </tbody>\n",
       "</table>\n",
       "</div>"
      ],
      "text/plain": [
       "      styles  tattoo_id  to_process example_type\n",
       "0   abstract          1        True          val\n",
       "1  blackwork          1        True          val\n",
       "2  fine_line          1        True          val"
      ]
     },
     "execution_count": 73,
     "metadata": {},
     "output_type": "execute_result"
    }
   ],
   "source": [
    "dev_w_type = model_data_splitting(tattoo_meta_data_processed_augmented_testing, dev=True)\n",
    "dev_w_type.head(3)"
   ]
  },
  {
   "cell_type": "code",
   "execution_count": 75,
   "id": "1a67a355-3e2a-4cb0-9a7d-ffcd300f0c11",
   "metadata": {},
   "outputs": [
    {
     "data": {
      "text/plain": [
       "example_type\n",
       "train    0.798994\n",
       "val      0.100560\n",
       "test     0.100446\n",
       "Name: proportion, dtype: float64"
      ]
     },
     "execution_count": 75,
     "metadata": {},
     "output_type": "execute_result"
    }
   ],
   "source": [
    "dev_w_type[\n",
    "['tattoo_id', 'example_type']\n",
    "].drop_duplicates()['example_type'].value_counts(normalize=True)"
   ]
  },
  {
   "cell_type": "code",
   "execution_count": null,
   "id": "4343c434-7b93-4d37-9eab-074c26baaf05",
   "metadata": {},
   "outputs": [],
   "source": []
  }
 ],
 "metadata": {
  "kernelspec": {
   "display_name": "Python 3 (ipykernel)",
   "language": "python",
   "name": "python3"
  },
  "language_info": {
   "codemirror_mode": {
    "name": "ipython",
    "version": 3
   },
   "file_extension": ".py",
   "mimetype": "text/x-python",
   "name": "python",
   "nbconvert_exporter": "python",
   "pygments_lexer": "ipython3",
   "version": "3.12.4"
  }
 },
 "nbformat": 4,
 "nbformat_minor": 5
}
